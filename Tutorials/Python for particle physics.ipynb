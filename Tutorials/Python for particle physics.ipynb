{
 "cells": [
  {
   "cell_type": "markdown",
   "metadata": {},
   "source": [
    "# Python for particle physics\n",
    "\n",
    "`python` has a wide ecosystem of packages, many of which are very useful for particle physics (numerical analysis, statistics, simulation, etc...). Have a look at the [Scikit-HEP project webpage](https://scikit-hep.org) to get a feeling of what exists and can be used. \n",
    "\n",
    "Let me show you two simple packages that you can integrated in your calculation: `particle` and `hepunits`. They are both already included in the [ESIPAP Docker image](https://hub.docker.com/repository/docker/marcodelmastro/esipap), but in case you want to install them on your local `python` enviroment you can do this with:\n",
    "\n",
    "`pip install particle`\n",
    "\n",
    "`pip install hepunits`\n",
    "\n",
    "\n",
    "## `particle`\n",
    "\n",
    "`particle` provides a pythonic interface to the [Particle Data Group](https://pdg.lbl.gov) (PDG) particle data tables and particle identification codes, with extended particle information and extra goodies. Refer to the [project webpage](https://github.com/scikit-hep/particle) for details about how to use, below two simple examples:"
   ]
  },
  {
   "cell_type": "code",
   "execution_count": 3,
   "metadata": {},
   "outputs": [
    {
     "data": {
      "text/latex": [
       "$\\pi^{+}$"
      ],
      "text/plain": [
       "<Particle: name=\"pi+\", pdgid=211, mass=139.57039 ± 0.00018 MeV>"
      ]
     },
     "execution_count": 3,
     "metadata": {},
     "output_type": "execute_result"
    }
   ],
   "source": [
    "from particle import Particle\n",
    "\n",
    "piplus = Particle.from_pdgid(211)\n",
    "piplus"
   ]
  },
  {
   "cell_type": "code",
   "execution_count": 4,
   "metadata": {},
   "outputs": [
    {
     "data": {
      "text/plain": [
       "[<Particle: name=\"pi0\", pdgid=111, mass=134.9768 ± 0.0005 MeV>,\n",
       " <Particle: name=\"pi+\", pdgid=211, mass=139.57039 ± 0.00018 MeV>,\n",
       " <Particle: name=\"pi-\", pdgid=-211, mass=139.57039 ± 0.00018 MeV>,\n",
       " <Particle: name=\"pi(2)(1670)0\", pdgid=10115, mass=1670.6 + 2.9 - 1.2 MeV>,\n",
       " <Particle: name=\"pi(2)(1670)+\", pdgid=10215, mass=1670.6 + 2.9 - 1.2 MeV>,\n",
       " <Particle: name=\"pi(2)(1670)-\", pdgid=-10215, mass=1670.6 + 2.9 - 1.2 MeV>,\n",
       " <Particle: name=\"pi(1300)0\", pdgid=100111, mass=1300 ± 100 MeV>,\n",
       " <Particle: name=\"pi(1300)+\", pdgid=100211, mass=1300 ± 100 MeV>,\n",
       " <Particle: name=\"pi(1300)-\", pdgid=-100211, mass=1300 ± 100 MeV>,\n",
       " <Particle: name=\"pi(1)(1400)0\", pdgid=9000113, mass=1354 ± 25 MeV>,\n",
       " <Particle: name=\"pi(1)(1400)+\", pdgid=9000213, mass=1354 ± 25 MeV>,\n",
       " <Particle: name=\"pi(1)(1400)-\", pdgid=-9000213, mass=1354 ± 25 MeV>,\n",
       " <Particle: name=\"pi(1800)0\", pdgid=9010111, mass=1810 + 9 - 11 MeV>,\n",
       " <Particle: name=\"pi(1)(1600)0\", pdgid=9010113, mass=1660 + 15 - 11 MeV>,\n",
       " <Particle: name=\"pi(1800)+\", pdgid=9010211, mass=1810 + 9 - 11 MeV>,\n",
       " <Particle: name=\"pi(1800)-\", pdgid=-9010211, mass=1810 + 9 - 11 MeV>,\n",
       " <Particle: name=\"pi(1)(1600)+\", pdgid=9010213, mass=1660 + 15 - 11 MeV>,\n",
       " <Particle: name=\"pi(1)(1600)-\", pdgid=-9010213, mass=1660 + 15 - 11 MeV>]"
      ]
     },
     "execution_count": 4,
     "metadata": {},
     "output_type": "execute_result"
    }
   ],
   "source": [
    "pions = Particle.findall('pi')\n",
    "pions"
   ]
  },
  {
   "cell_type": "code",
   "execution_count": 15,
   "metadata": {},
   "outputs": [
    {
     "name": "stdout",
     "output_type": "stream",
     "text": [
      "The Lambda(c)+ is made of udc and has a mass m = 2286.46 MeV\n"
     ]
    }
   ],
   "source": [
    "from particle.literals import Lambda_c_plus\n",
    "\n",
    "print(\"The {} is made of {} and has a mass m = {} MeV\".format(Lambda_c_plus.name,\n",
    "                                                              Lambda_c_plus.quarks,\n",
    "                                                              Lambda_c_plus.mass))"
   ]
  },
  {
   "cell_type": "markdown",
   "metadata": {},
   "source": [
    "## `hepunits`\n",
    "\n",
    "`hepunits` collects the most commonly used units and constants in the HEP System of Units. Example of usage on the [project webpage](https://github.com/scikit-hep/hepunits)."
   ]
  },
  {
   "cell_type": "code",
   "execution_count": 18,
   "metadata": {},
   "outputs": [
    {
     "name": "stdout",
     "output_type": "stream",
     "text": [
      "0.44968868700000003 mm\n",
      "449.688687 um\n"
     ]
    }
   ],
   "source": [
    "from hepunits.constants import c_light\n",
    "from hepunits.units     import picosecond, micrometer\n",
    "\n",
    "tau_Bs = 1.5 * picosecond      # a particle lifetime, say the Bs meson's\n",
    "ctau_Bs = c_light * tau_Bs     # ctau of the particle, ~450 microns\n",
    "print(ctau_Bs,\"mm\")            # result in HEP units, so mm\n",
    "print(ctau_Bs/micrometer,\"um\") # result in micrometers"
   ]
  },
  {
   "cell_type": "code",
   "execution_count": null,
   "metadata": {},
   "outputs": [],
   "source": []
  }
 ],
 "metadata": {
  "kernelspec": {
   "display_name": "Python 3",
   "language": "python",
   "name": "python3"
  },
  "language_info": {
   "codemirror_mode": {
    "name": "ipython",
    "version": 3
   },
   "file_extension": ".py",
   "mimetype": "text/x-python",
   "name": "python",
   "nbconvert_exporter": "python",
   "pygments_lexer": "ipython3",
   "version": "3.9.0"
  }
 },
 "nbformat": 4,
 "nbformat_minor": 4
}
